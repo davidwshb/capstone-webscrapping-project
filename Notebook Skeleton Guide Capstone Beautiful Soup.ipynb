{
 "cells": [
  {
   "cell_type": "markdown",
   "metadata": {},
   "source": [
    "# Capstone Webscrapping using BeautifulSoup\n",
    "\n",
    "This notebook contains guidances & tasks on the data processing for the application\n",
    "\n",
    "## background\n",
    "\n",
    "Pada proyek ini kami mencoba untuk melihat sejarah kurs Dolar Amerika Serikat (USD) ke Rupiah Indonesia (IDR) dari situs web exchange-rates. Exchange-Rates adalah publikasi reguler dari nilai tukar mata uang dunia dan sejarah nilai tukar mata uang. Kami akan mencoba untuk memo situs ini untuk tujuan pendidikan saja.\n",
    "\n",
    "Mungkin ada yang bertanya mengapa kammi perlu menghapus data dari situs web ini padahal sudah memiliki visualisasi yang cukup baik. Jika kita memiliki tugas untuk membuat hubungan antara tanggal dan kurs Dolar Amerika Serikat (USD) ke Rupiah Indonesia (IDR). Diperlukan data untuk melakukan analisis tersebut. Untuk melakukan itu kita perlu memiliki data, dan scrapping adalah cara yang baik untuk mengumpulkan data yang tidak kita miliki dari publik.\n",
    "\n",
    "Kami akan mengambil 2 point dari situs ini yaitu tanggal dan kurs Dolar Amerika Serikat (USD) ke Rupiah Indonesia (IDR) atau harga harian. Harga harian adalah harga kurs Dolar Amerika Serikat (USD) ke Rupiah Indonesia (IDR) tiap harinya\n",
    "\n",
    "## Requesting the Data and Creating a BeautifulSoup\n",
    "\n",
    "Let's begin with requesting the web from the site with `get` method."
   ]
  },
  {
   "cell_type": "code",
   "execution_count": 1,
   "metadata": {
    "ExecuteTime": {
     "end_time": "2020-01-13T05:12:23.275508Z",
     "start_time": "2020-01-13T05:12:20.009898Z"
    }
   },
   "outputs": [],
   "source": [
    "import requests\n",
    "\n",
    "url_get = requests.get('https://www.exchange-rates.org/history/IDR/USD/T')"
   ]
  },
  {
   "cell_type": "markdown",
   "metadata": {},
   "source": [
    "To visualize what exactly you get from the `request.get`, we can use .content so ee what we exactly get, in here i slice it so it won't make our screen full of the html we get from the page. You can delete the slicing if you want to see what we fully get."
   ]
  },
  {
   "cell_type": "code",
   "execution_count": 2,
   "metadata": {
    "ExecuteTime": {
     "end_time": "2020-01-13T05:12:23.290648Z",
     "start_time": "2020-01-13T05:12:23.277650Z"
    }
   },
   "outputs": [
    {
     "data": {
      "text/plain": [
       "b'!DOCTYPE html>\\r\\n<!--[if lt IE 9]>\\r\\n<html class=\"no-js ie8 oldie\" lang=\"en\" xml:lang=\\'en\\'>\\r\\n<![endif]-->\\r\\n<!--[if gt IE 8]><!--><html class=\"no-js\" lang=\"en\" xml:lang=\\'en\\'><!--<![endif]-->\\r\\n<head>\\r\\n<title>USD to IDR exchange rate history</title>\\r\\n<meta http-equiv=\"X-UA-Compatible\" content=\"IE=edge\">\\r\\n<meta name=\"viewport\" content=\"width=device-width, initial-scale=1, maximum-scale=5\">\\r\\n<meta charset=\"utf-8\" /><meta http-equiv=\"Content-Type\" content=\"text/html; charset=utf-8\" />\\r\\n<base href=\"http'"
      ]
     },
     "execution_count": 2,
     "metadata": {},
     "output_type": "execute_result"
    }
   ],
   "source": [
    "url_get.content[1:500]"
   ]
  },
  {
   "cell_type": "markdown",
   "metadata": {},
   "source": [
    "As we can see we get a very unstructured and complex html, which actually contains the codes needed to show the webpages on your web browser. But we as human still confused what and where we can use that piece of code, so here where we use the beautifulsoup. Beautiful soup class will result a beautifulsoup object. Beautiful Soup transforms a complex HTML document into a complex tree of Python objects. \n",
    "\n",
    "Let's make Beautiful soup object and feel free to explore the object here."
   ]
  },
  {
   "cell_type": "code",
   "execution_count": 3,
   "metadata": {
    "ExecuteTime": {
     "end_time": "2020-01-13T05:12:23.808122Z",
     "start_time": "2020-01-13T05:12:23.292610Z"
    }
   },
   "outputs": [
    {
     "name": "stdout",
     "output_type": "stream",
     "text": [
      "<class 'bs4.BeautifulSoup'>\n"
     ]
    }
   ],
   "source": [
    "from bs4 import BeautifulSoup \n",
    "\n",
    "soup = BeautifulSoup(url_get.content,\"html.parser\")\n",
    "print(type(soup))"
   ]
  },
  {
   "cell_type": "code",
   "execution_count": 4,
   "metadata": {},
   "outputs": [
    {
     "name": "stdout",
     "output_type": "stream",
     "text": [
      "<!DOCTYPE html>\n",
      "<!--[if lt IE 9]>\n",
      "<html class=\"no-js ie8 oldie\" lang=\"en\" xml:lang='en'>\n",
      "<![endif]-->\n",
      "<!--[if gt IE 8]><!-->\n",
      "<html class=\"no-js\" lang=\"en\" xml:lang=\"en\">\n",
      " <!--<![endif]-->\n",
      " <head>\n",
      "  <title>\n",
      "   USD to IDR exchange rate history\n",
      "  </title>\n",
      "  <meta content=\"IE=edge\" http-equiv=\"X-UA-Compatible\"/>\n",
      "  <meta content=\"width=device-width, initial-scale=1, maximum-scale=5\" name=\"viewport\"/>\n",
      "  <meta charset=\"utf-8\">\n",
      "   <meta content=\"text/html; charset=utf-8\" http-equiv=\"Content-Type\">\n",
      "   \n"
     ]
    }
   ],
   "source": [
    "print(soup.prettify()[:500])"
   ]
  },
  {
   "cell_type": "markdown",
   "metadata": {},
   "source": [
    "## Finding the right key to scrap the data & Extracting the right information"
   ]
  },
  {
   "cell_type": "markdown",
   "metadata": {},
   "source": [
    "Find the key and put the key into the `.find()` Put all the exploring the right key at this cell. (please change this markdown with your explanation)"
   ]
  },
  {
   "cell_type": "code",
   "execution_count": 5,
   "metadata": {
    "ExecuteTime": {
     "end_time": "2020-01-13T05:12:23.878904Z",
     "start_time": "2020-01-13T05:12:23.854974Z"
    }
   },
   "outputs": [
    {
     "name": "stdout",
     "output_type": "stream",
     "text": [
      "tbody>\n",
      " <tr>\n",
      "  <td>\n",
      "   <a class=\"w\" href=\"/exchange-rate-history/usd-idr-2023-04-12\">\n",
      "    April 12, 2023\n",
      "   </a>\n",
      "   <a class=\"n\" href=\"/exchange-rate-history/usd-idr-2023-04-12\">\n",
      "    2023-4-12\n",
      "   </a>\n",
      "  </td>\n",
      "  <td>\n",
      "   <span class=\"w\">\n",
      "    <span class=\"nowrap\">\n",
      "     <span class=\"currencySymbol\">\n",
      "      $\n",
      "     </span>\n",
      "     1 =\n",
      "    </span>\n",
      "    <span class=\"nowrap\">\n",
      "     <span class=\"currencySymbol\">\n",
      "      Rp\n",
      "     </span>\n",
      "     14,835\n",
      "    </span>\n",
      "   </span>\n",
      "   <span class=\"n\">\n",
      "    <span class=\"nowra\n"
     ]
    }
   ],
   "source": [
    "table = soup.find('tbody')\n",
    "print(table.prettify()[1:500])"
   ]
  },
  {
   "cell_type": "code",
   "execution_count": 6,
   "metadata": {},
   "outputs": [
    {
     "data": {
      "text/plain": [
       "[<a class=\"w\" href=\"/exchange-rate-history/usd-idr-2023-04-12\">April 12, 2023</a>,\n",
       " <a class=\"w\" href=\"/exchange-rate-history/usd-idr-2023-04-11\">April 11, 2023</a>,\n",
       " <a class=\"w\" href=\"/exchange-rate-history/usd-idr-2023-04-10\">April 10, 2023</a>,\n",
       " <a class=\"w\" href=\"/exchange-rate-history/usd-idr-2023-04-07\">April 7, 2023</a>,\n",
       " <a class=\"w\" href=\"/exchange-rate-history/usd-idr-2023-04-06\">April 6, 2023</a>]"
      ]
     },
     "execution_count": 6,
     "metadata": {},
     "output_type": "execute_result"
    }
   ],
   "source": [
    "table.find_all('a', attrs={'class':'w'})[:5]"
   ]
  },
  {
   "cell_type": "code",
   "execution_count": 7,
   "metadata": {},
   "outputs": [
    {
     "data": {
      "text/plain": [
       "'April 12, 2023'"
      ]
     },
     "execution_count": 7,
     "metadata": {},
     "output_type": "execute_result"
    }
   ],
   "source": [
    "table.find_all('a', attrs={'class':'w'})[0].text"
   ]
  },
  {
   "cell_type": "code",
   "execution_count": 8,
   "metadata": {},
   "outputs": [
    {
     "data": {
      "text/plain": [
       "'$1 = Rp14,835'"
      ]
     },
     "execution_count": 8,
     "metadata": {},
     "output_type": "execute_result"
    }
   ],
   "source": [
    "table.find_all('span', attrs={'class':'w'})[0].text"
   ]
  },
  {
   "cell_type": "markdown",
   "metadata": {},
   "source": [
    "Finding row length."
   ]
  },
  {
   "cell_type": "code",
   "execution_count": 9,
   "metadata": {},
   "outputs": [
    {
     "data": {
      "text/plain": [
       "129"
      ]
     },
     "execution_count": 9,
     "metadata": {},
     "output_type": "execute_result"
    }
   ],
   "source": [
    "row = table.find_all('a',  attrs={'class':'w'})\n",
    "row_length = len(row)\n",
    "row_length"
   ]
  },
  {
   "cell_type": "markdown",
   "metadata": {},
   "source": [
    "Do the scrapping process here (please change this markdown with your explanation)"
   ]
  },
  {
   "cell_type": "code",
   "execution_count": 10,
   "metadata": {
    "ExecuteTime": {
     "end_time": "2020-01-13T05:12:24.008256Z",
     "start_time": "2020-01-13T05:12:23.980358Z"
    }
   },
   "outputs": [
    {
     "data": {
      "text/plain": [
       "[('April 12, 2023', '$1 = Rp14,835'),\n",
       " ('April 11, 2023', '$1 = Rp14,915'),\n",
       " ('April 10, 2023', '$1 = Rp14,950'),\n",
       " ('April 7, 2023', '$1 = Rp14,941'),\n",
       " ('April 6, 2023', '$1 = Rp14,931'),\n",
       " ('April 5, 2023', '$1 = Rp14,960'),\n",
       " ('April 4, 2023', '$1 = Rp14,957'),\n",
       " ('April 3, 2023', '$1 = Rp14,922'),\n",
       " ('March 31, 2023', '$1 = Rp14,969'),\n",
       " ('March 30, 2023', '$1 = Rp15,024'),\n",
       " ('March 29, 2023', '$1 = Rp15,034'),\n",
       " ('March 28, 2023', '$1 = Rp15,060'),\n",
       " ('March 27, 2023', '$1 = Rp15,107'),\n",
       " ('March 24, 2023', '$1 = Rp15,165'),\n",
       " ('March 23, 2023', '$1 = Rp15,085'),\n",
       " ('March 22, 2023', '$1 = Rp15,253'),\n",
       " ('March 21, 2023', '$1 = Rp15,301'),\n",
       " ('March 20, 2023', '$1 = Rp15,343'),\n",
       " ('March 17, 2023', '$1 = Rp15,375'),\n",
       " ('March 16, 2023', '$1 = Rp15,429'),\n",
       " ('March 15, 2023', '$1 = Rp15,459'),\n",
       " ('March 14, 2023', '$1 = Rp15,380'),\n",
       " ('March 13, 2023', '$1 = Rp15,416'),\n",
       " ('March 10, 2023', '$1 = Rp15,503'),\n",
       " ('March 9, 2023', '$1 = Rp15,495'),\n",
       " ('March 8, 2023', '$1 = Rp15,449'),\n",
       " ('March 7, 2023', '$1 = Rp15,429'),\n",
       " ('March 6, 2023', '$1 = Rp15,354'),\n",
       " ('March 3, 2023', '$1 = Rp15,278'),\n",
       " ('March 2, 2023', '$1 = Rp15,322'),\n",
       " ('March 1, 2023', '$1 = Rp15,249'),\n",
       " ('February 28, 2023', '$1 = Rp15,241'),\n",
       " ('February 27, 2023', '$1 = Rp15,216'),\n",
       " ('February 24, 2023', '$1 = Rp15,265'),\n",
       " ('February 23, 2023', '$1 = Rp15,211'),\n",
       " ('February 22, 2023', '$1 = Rp15,197'),\n",
       " ('February 21, 2023', '$1 = Rp15,235'),\n",
       " ('February 20, 2023', '$1 = Rp15,168'),\n",
       " ('February 17, 2023', '$1 = Rp15,166'),\n",
       " ('February 16, 2023', '$1 = Rp15,144'),\n",
       " ('February 15, 2023', '$1 = Rp15,205'),\n",
       " ('February 14, 2023', '$1 = Rp15,186'),\n",
       " ('February 13, 2023', '$1 = Rp15,216'),\n",
       " ('February 10, 2023', '$1 = Rp15,188'),\n",
       " ('February 9, 2023', '$1 = Rp15,147'),\n",
       " ('February 8, 2023', '$1 = Rp15,133'),\n",
       " ('February 7, 2023', '$1 = Rp15,154'),\n",
       " ('February 6, 2023', '$1 = Rp15,198'),\n",
       " ('February 3, 2023', '$1 = Rp15,095'),\n",
       " ('February 2, 2023', '$1 = Rp14,907'),\n",
       " ('February 1, 2023', '$1 = Rp14,896'),\n",
       " ('January 31, 2023', '$1 = Rp15,002'),\n",
       " ('January 30, 2023', '$1 = Rp15,013'),\n",
       " ('January 27, 2023', '$1 = Rp14,973'),\n",
       " ('January 26, 2023', '$1 = Rp14,955'),\n",
       " ('January 25, 2023', '$1 = Rp14,940'),\n",
       " ('January 24, 2023', '$1 = Rp14,956'),\n",
       " ('January 23, 2023', '$1 = Rp15,026'),\n",
       " ('January 20, 2023', '$1 = Rp15,063'),\n",
       " ('January 19, 2023', '$1 = Rp15,154'),\n",
       " ('January 18, 2023', '$1 = Rp15,138'),\n",
       " ('January 17, 2023', '$1 = Rp15,180'),\n",
       " ('January 16, 2023', '$1 = Rp15,126'),\n",
       " ('January 13, 2023', '$1 = Rp15,115'),\n",
       " ('January 12, 2023', '$1 = Rp15,206'),\n",
       " ('January 11, 2023', '$1 = Rp15,432'),\n",
       " ('January 10, 2023', '$1 = Rp15,536'),\n",
       " ('January 9, 2023', '$1 = Rp15,596'),\n",
       " ('January 6, 2023', '$1 = Rp15,607'),\n",
       " ('January 5, 2023', '$1 = Rp15,635'),\n",
       " ('January 4, 2023', '$1 = Rp15,582'),\n",
       " ('January 3, 2023', '$1 = Rp15,594'),\n",
       " ('January 2, 2023', '$1 = Rp15,554'),\n",
       " ('December 30, 2022', '$1 = Rp15,534'),\n",
       " ('December 29, 2022', '$1 = Rp15,627'),\n",
       " ('December 28, 2022', '$1 = Rp15,789'),\n",
       " ('December 27, 2022', '$1 = Rp15,620'),\n",
       " ('December 26, 2022', '$1 = Rp15,621'),\n",
       " ('December 23, 2022', '$1 = Rp15,582'),\n",
       " ('December 22, 2022', '$1 = Rp15,574'),\n",
       " ('December 21, 2022', '$1 = Rp15,540'),\n",
       " ('December 20, 2022', '$1 = Rp15,564'),\n",
       " ('December 19, 2022', '$1 = Rp15,568'),\n",
       " ('December 16, 2022', '$1 = Rp15,616'),\n",
       " ('December 15, 2022', '$1 = Rp15,629'),\n",
       " ('December 14, 2022', '$1 = Rp15,543'),\n",
       " ('December 13, 2022', '$1 = Rp15,560'),\n",
       " ('December 12, 2022', '$1 = Rp15,676'),\n",
       " ('December 9, 2022', '$1 = Rp15,604'),\n",
       " ('December 8, 2022', '$1 = Rp15,594'),\n",
       " ('December 7, 2022', '$1 = Rp15,612'),\n",
       " ('December 6, 2022', '$1 = Rp15,625'),\n",
       " ('December 5, 2022', '$1 = Rp15,520'),\n",
       " ('December 2, 2022', '$1 = Rp15,376'),\n",
       " ('December 1, 2022', '$1 = Rp15,389'),\n",
       " ('November 30, 2022', '$1 = Rp15,633'),\n",
       " ('November 29, 2022', '$1 = Rp15,734'),\n",
       " ('November 28, 2022', '$1 = Rp15,743'),\n",
       " ('November 25, 2022', '$1 = Rp15,693'),\n",
       " ('November 24, 2022', '$1 = Rp15,647'),\n",
       " ('November 23, 2022', '$1 = Rp15,626'),\n",
       " ('November 22, 2022', '$1 = Rp15,664'),\n",
       " ('November 21, 2022', '$1 = Rp15,741'),\n",
       " ('November 18, 2022', '$1 = Rp15,641'),\n",
       " ('November 17, 2022', '$1 = Rp15,714'),\n",
       " ('November 16, 2022', '$1 = Rp15,639'),\n",
       " ('November 15, 2022', '$1 = Rp15,557'),\n",
       " ('November 14, 2022', '$1 = Rp15,554'),\n",
       " ('November 11, 2022', '$1 = Rp15,474'),\n",
       " ('November 10, 2022', '$1 = Rp15,520'),\n",
       " ('November 9, 2022', '$1 = Rp15,692'),\n",
       " ('November 8, 2022', '$1 = Rp15,638'),\n",
       " ('November 7, 2022', '$1 = Rp15,685'),\n",
       " ('November 4, 2022', '$1 = Rp15,615'),\n",
       " ('November 3, 2022', '$1 = Rp15,790'),\n",
       " ('November 2, 2022', '$1 = Rp15,685'),\n",
       " ('November 1, 2022', '$1 = Rp15,674'),\n",
       " ('October 31, 2022', '$1 = Rp15,624'),\n",
       " ('October 28, 2022', '$1 = Rp15,557'),\n",
       " ('October 27, 2022', '$1 = Rp15,560'),\n",
       " ('October 26, 2022', '$1 = Rp15,503'),\n",
       " ('October 25, 2022', '$1 = Rp15,533'),\n",
       " ('October 24, 2022', '$1 = Rp15,598'),\n",
       " ('October 21, 2022', '$1 = Rp15,537'),\n",
       " ('October 20, 2022', '$1 = Rp15,562'),\n",
       " ('October 19, 2022', '$1 = Rp15,587'),\n",
       " ('October 18, 2022', '$1 = Rp15,474'),\n",
       " ('October 17, 2022', '$1 = Rp15,441'),\n",
       " ('October 14, 2022', '$1 = Rp15,472')]"
      ]
     },
     "execution_count": 10,
     "metadata": {},
     "output_type": "execute_result"
    }
   ],
   "source": [
    "temp = [] #initiating a tuple\n",
    "\n",
    "for i in range(0, row_length):\n",
    "\n",
    "    #get date\n",
    "    date = table.find_all('a', attrs={'class':'w'})[i].text\n",
    "    \n",
    "    #get kurs\n",
    "    kurs = table.find_all('span', attrs={'class':'w'})[i].text\n",
    "    \n",
    "    temp.append((date,kurs))\n",
    "    \n",
    "temp "
   ]
  },
  {
   "cell_type": "code",
   "execution_count": 11,
   "metadata": {},
   "outputs": [
    {
     "data": {
      "text/plain": [
       "[('October 14, 2022', '$1 = Rp15,472'),\n",
       " ('October 17, 2022', '$1 = Rp15,441'),\n",
       " ('October 18, 2022', '$1 = Rp15,474'),\n",
       " ('October 19, 2022', '$1 = Rp15,587'),\n",
       " ('October 20, 2022', '$1 = Rp15,562'),\n",
       " ('October 21, 2022', '$1 = Rp15,537'),\n",
       " ('October 24, 2022', '$1 = Rp15,598'),\n",
       " ('October 25, 2022', '$1 = Rp15,533'),\n",
       " ('October 26, 2022', '$1 = Rp15,503'),\n",
       " ('October 27, 2022', '$1 = Rp15,560'),\n",
       " ('October 28, 2022', '$1 = Rp15,557'),\n",
       " ('October 31, 2022', '$1 = Rp15,624'),\n",
       " ('November 1, 2022', '$1 = Rp15,674'),\n",
       " ('November 2, 2022', '$1 = Rp15,685'),\n",
       " ('November 3, 2022', '$1 = Rp15,790'),\n",
       " ('November 4, 2022', '$1 = Rp15,615'),\n",
       " ('November 7, 2022', '$1 = Rp15,685'),\n",
       " ('November 8, 2022', '$1 = Rp15,638'),\n",
       " ('November 9, 2022', '$1 = Rp15,692'),\n",
       " ('November 10, 2022', '$1 = Rp15,520'),\n",
       " ('November 11, 2022', '$1 = Rp15,474'),\n",
       " ('November 14, 2022', '$1 = Rp15,554'),\n",
       " ('November 15, 2022', '$1 = Rp15,557'),\n",
       " ('November 16, 2022', '$1 = Rp15,639'),\n",
       " ('November 17, 2022', '$1 = Rp15,714'),\n",
       " ('November 18, 2022', '$1 = Rp15,641'),\n",
       " ('November 21, 2022', '$1 = Rp15,741'),\n",
       " ('November 22, 2022', '$1 = Rp15,664'),\n",
       " ('November 23, 2022', '$1 = Rp15,626'),\n",
       " ('November 24, 2022', '$1 = Rp15,647'),\n",
       " ('November 25, 2022', '$1 = Rp15,693'),\n",
       " ('November 28, 2022', '$1 = Rp15,743'),\n",
       " ('November 29, 2022', '$1 = Rp15,734'),\n",
       " ('November 30, 2022', '$1 = Rp15,633'),\n",
       " ('December 1, 2022', '$1 = Rp15,389'),\n",
       " ('December 2, 2022', '$1 = Rp15,376'),\n",
       " ('December 5, 2022', '$1 = Rp15,520'),\n",
       " ('December 6, 2022', '$1 = Rp15,625'),\n",
       " ('December 7, 2022', '$1 = Rp15,612'),\n",
       " ('December 8, 2022', '$1 = Rp15,594'),\n",
       " ('December 9, 2022', '$1 = Rp15,604'),\n",
       " ('December 12, 2022', '$1 = Rp15,676'),\n",
       " ('December 13, 2022', '$1 = Rp15,560'),\n",
       " ('December 14, 2022', '$1 = Rp15,543'),\n",
       " ('December 15, 2022', '$1 = Rp15,629'),\n",
       " ('December 16, 2022', '$1 = Rp15,616'),\n",
       " ('December 19, 2022', '$1 = Rp15,568'),\n",
       " ('December 20, 2022', '$1 = Rp15,564'),\n",
       " ('December 21, 2022', '$1 = Rp15,540'),\n",
       " ('December 22, 2022', '$1 = Rp15,574'),\n",
       " ('December 23, 2022', '$1 = Rp15,582'),\n",
       " ('December 26, 2022', '$1 = Rp15,621'),\n",
       " ('December 27, 2022', '$1 = Rp15,620'),\n",
       " ('December 28, 2022', '$1 = Rp15,789'),\n",
       " ('December 29, 2022', '$1 = Rp15,627'),\n",
       " ('December 30, 2022', '$1 = Rp15,534'),\n",
       " ('January 2, 2023', '$1 = Rp15,554'),\n",
       " ('January 3, 2023', '$1 = Rp15,594'),\n",
       " ('January 4, 2023', '$1 = Rp15,582'),\n",
       " ('January 5, 2023', '$1 = Rp15,635'),\n",
       " ('January 6, 2023', '$1 = Rp15,607'),\n",
       " ('January 9, 2023', '$1 = Rp15,596'),\n",
       " ('January 10, 2023', '$1 = Rp15,536'),\n",
       " ('January 11, 2023', '$1 = Rp15,432'),\n",
       " ('January 12, 2023', '$1 = Rp15,206'),\n",
       " ('January 13, 2023', '$1 = Rp15,115'),\n",
       " ('January 16, 2023', '$1 = Rp15,126'),\n",
       " ('January 17, 2023', '$1 = Rp15,180'),\n",
       " ('January 18, 2023', '$1 = Rp15,138'),\n",
       " ('January 19, 2023', '$1 = Rp15,154'),\n",
       " ('January 20, 2023', '$1 = Rp15,063'),\n",
       " ('January 23, 2023', '$1 = Rp15,026'),\n",
       " ('January 24, 2023', '$1 = Rp14,956'),\n",
       " ('January 25, 2023', '$1 = Rp14,940'),\n",
       " ('January 26, 2023', '$1 = Rp14,955'),\n",
       " ('January 27, 2023', '$1 = Rp14,973'),\n",
       " ('January 30, 2023', '$1 = Rp15,013'),\n",
       " ('January 31, 2023', '$1 = Rp15,002'),\n",
       " ('February 1, 2023', '$1 = Rp14,896'),\n",
       " ('February 2, 2023', '$1 = Rp14,907'),\n",
       " ('February 3, 2023', '$1 = Rp15,095'),\n",
       " ('February 6, 2023', '$1 = Rp15,198'),\n",
       " ('February 7, 2023', '$1 = Rp15,154'),\n",
       " ('February 8, 2023', '$1 = Rp15,133'),\n",
       " ('February 9, 2023', '$1 = Rp15,147'),\n",
       " ('February 10, 2023', '$1 = Rp15,188'),\n",
       " ('February 13, 2023', '$1 = Rp15,216'),\n",
       " ('February 14, 2023', '$1 = Rp15,186'),\n",
       " ('February 15, 2023', '$1 = Rp15,205'),\n",
       " ('February 16, 2023', '$1 = Rp15,144'),\n",
       " ('February 17, 2023', '$1 = Rp15,166'),\n",
       " ('February 20, 2023', '$1 = Rp15,168'),\n",
       " ('February 21, 2023', '$1 = Rp15,235'),\n",
       " ('February 22, 2023', '$1 = Rp15,197'),\n",
       " ('February 23, 2023', '$1 = Rp15,211'),\n",
       " ('February 24, 2023', '$1 = Rp15,265'),\n",
       " ('February 27, 2023', '$1 = Rp15,216'),\n",
       " ('February 28, 2023', '$1 = Rp15,241'),\n",
       " ('March 1, 2023', '$1 = Rp15,249'),\n",
       " ('March 2, 2023', '$1 = Rp15,322'),\n",
       " ('March 3, 2023', '$1 = Rp15,278'),\n",
       " ('March 6, 2023', '$1 = Rp15,354'),\n",
       " ('March 7, 2023', '$1 = Rp15,429'),\n",
       " ('March 8, 2023', '$1 = Rp15,449'),\n",
       " ('March 9, 2023', '$1 = Rp15,495'),\n",
       " ('March 10, 2023', '$1 = Rp15,503'),\n",
       " ('March 13, 2023', '$1 = Rp15,416'),\n",
       " ('March 14, 2023', '$1 = Rp15,380'),\n",
       " ('March 15, 2023', '$1 = Rp15,459'),\n",
       " ('March 16, 2023', '$1 = Rp15,429'),\n",
       " ('March 17, 2023', '$1 = Rp15,375'),\n",
       " ('March 20, 2023', '$1 = Rp15,343'),\n",
       " ('March 21, 2023', '$1 = Rp15,301'),\n",
       " ('March 22, 2023', '$1 = Rp15,253'),\n",
       " ('March 23, 2023', '$1 = Rp15,085'),\n",
       " ('March 24, 2023', '$1 = Rp15,165'),\n",
       " ('March 27, 2023', '$1 = Rp15,107'),\n",
       " ('March 28, 2023', '$1 = Rp15,060'),\n",
       " ('March 29, 2023', '$1 = Rp15,034'),\n",
       " ('March 30, 2023', '$1 = Rp15,024'),\n",
       " ('March 31, 2023', '$1 = Rp14,969'),\n",
       " ('April 3, 2023', '$1 = Rp14,922'),\n",
       " ('April 4, 2023', '$1 = Rp14,957'),\n",
       " ('April 5, 2023', '$1 = Rp14,960'),\n",
       " ('April 6, 2023', '$1 = Rp14,931'),\n",
       " ('April 7, 2023', '$1 = Rp14,941'),\n",
       " ('April 10, 2023', '$1 = Rp14,950'),\n",
       " ('April 11, 2023', '$1 = Rp14,915'),\n",
       " ('April 12, 2023', '$1 = Rp14,835')]"
      ]
     },
     "execution_count": 11,
     "metadata": {},
     "output_type": "execute_result"
    }
   ],
   "source": [
    "temp = temp[::-1]\n",
    "temp"
   ]
  },
  {
   "cell_type": "markdown",
   "metadata": {},
   "source": [
    "## Creating data frame & Data wrangling"
   ]
  },
  {
   "cell_type": "markdown",
   "metadata": {},
   "source": [
    "Put the array into dataframe"
   ]
  },
  {
   "cell_type": "code",
   "execution_count": 12,
   "metadata": {
    "ExecuteTime": {
     "end_time": "2020-01-13T05:12:41.517372Z",
     "start_time": "2020-01-13T05:12:29.130015Z"
    }
   },
   "outputs": [
    {
     "data": {
      "text/html": [
       "<div>\n",
       "<style scoped>\n",
       "    .dataframe tbody tr th:only-of-type {\n",
       "        vertical-align: middle;\n",
       "    }\n",
       "\n",
       "    .dataframe tbody tr th {\n",
       "        vertical-align: top;\n",
       "    }\n",
       "\n",
       "    .dataframe thead th {\n",
       "        text-align: right;\n",
       "    }\n",
       "</style>\n",
       "<table border=\"1\" class=\"dataframe\">\n",
       "  <thead>\n",
       "    <tr style=\"text-align: right;\">\n",
       "      <th></th>\n",
       "      <th>date</th>\n",
       "      <th>kurs</th>\n",
       "    </tr>\n",
       "  </thead>\n",
       "  <tbody>\n",
       "    <tr>\n",
       "      <th>0</th>\n",
       "      <td>October 14, 2022</td>\n",
       "      <td>$1 = Rp15,472</td>\n",
       "    </tr>\n",
       "    <tr>\n",
       "      <th>1</th>\n",
       "      <td>October 17, 2022</td>\n",
       "      <td>$1 = Rp15,441</td>\n",
       "    </tr>\n",
       "    <tr>\n",
       "      <th>2</th>\n",
       "      <td>October 18, 2022</td>\n",
       "      <td>$1 = Rp15,474</td>\n",
       "    </tr>\n",
       "    <tr>\n",
       "      <th>3</th>\n",
       "      <td>October 19, 2022</td>\n",
       "      <td>$1 = Rp15,587</td>\n",
       "    </tr>\n",
       "    <tr>\n",
       "      <th>4</th>\n",
       "      <td>October 20, 2022</td>\n",
       "      <td>$1 = Rp15,562</td>\n",
       "    </tr>\n",
       "  </tbody>\n",
       "</table>\n",
       "</div>"
      ],
      "text/plain": [
       "               date           kurs\n",
       "0  October 14, 2022  $1 = Rp15,472\n",
       "1  October 17, 2022  $1 = Rp15,441\n",
       "2  October 18, 2022  $1 = Rp15,474\n",
       "3  October 19, 2022  $1 = Rp15,587\n",
       "4  October 20, 2022  $1 = Rp15,562"
      ]
     },
     "execution_count": 12,
     "metadata": {},
     "output_type": "execute_result"
    }
   ],
   "source": [
    "import pandas as pd\n",
    "\n",
    "df = pd.DataFrame(temp, columns = ('date','kurs'))\n",
    "df.head()"
   ]
  },
  {
   "cell_type": "markdown",
   "metadata": {},
   "source": [
    "Do the data cleaning here (please change this markdown with your explanation of what you do for data wrangling)"
   ]
  },
  {
   "cell_type": "code",
   "execution_count": 13,
   "metadata": {},
   "outputs": [
    {
     "data": {
      "text/plain": [
       "date    object\n",
       "kurs    object\n",
       "dtype: object"
      ]
     },
     "execution_count": 13,
     "metadata": {},
     "output_type": "execute_result"
    }
   ],
   "source": [
    "df.dtypes"
   ]
  },
  {
   "cell_type": "code",
   "execution_count": 14,
   "metadata": {
    "ExecuteTime": {
     "end_time": "2020-01-13T05:12:59.165559Z",
     "start_time": "2020-01-13T05:12:58.910012Z"
    }
   },
   "outputs": [
    {
     "name": "stderr",
     "output_type": "stream",
     "text": [
      "C:\\Users\\asus\\AppData\\Local\\Temp\\ipykernel_23500\\4205279378.py:1: FutureWarning: The default value of regex will change from True to False in a future version. In addition, single character regular expressions will *not* be treated as literal strings when regex=True.\n",
      "  df['kurs'] = df['kurs'].str.replace('$', '')\n"
     ]
    },
    {
     "data": {
      "text/plain": [
       "date    datetime64[ns]\n",
       "kurs             int64\n",
       "dtype: object"
      ]
     },
     "execution_count": 14,
     "metadata": {},
     "output_type": "execute_result"
    }
   ],
   "source": [
    "df['kurs'] = df['kurs'].str.replace('$', '')\n",
    "df['kurs'] = df['kurs'].str.replace('1 =','')\n",
    "df['kurs'] = df['kurs'].str.replace('Rp','')\n",
    "df['kurs'] = df['kurs'].str.replace(',','')\n",
    "\n",
    "df['kurs'] = df['kurs'].astype('int64')\n",
    "df['date'] = df['date'].astype('datetime64')\n",
    "\n",
    "df.dtypes\n"
   ]
  },
  {
   "cell_type": "code",
   "execution_count": 15,
   "metadata": {},
   "outputs": [],
   "source": [
    "df = df.set_index('date')"
   ]
  },
  {
   "cell_type": "code",
   "execution_count": 16,
   "metadata": {},
   "outputs": [
    {
     "data": {
      "text/html": [
       "<div>\n",
       "<style scoped>\n",
       "    .dataframe tbody tr th:only-of-type {\n",
       "        vertical-align: middle;\n",
       "    }\n",
       "\n",
       "    .dataframe tbody tr th {\n",
       "        vertical-align: top;\n",
       "    }\n",
       "\n",
       "    .dataframe thead th {\n",
       "        text-align: right;\n",
       "    }\n",
       "</style>\n",
       "<table border=\"1\" class=\"dataframe\">\n",
       "  <thead>\n",
       "    <tr style=\"text-align: right;\">\n",
       "      <th></th>\n",
       "      <th>kurs</th>\n",
       "    </tr>\n",
       "    <tr>\n",
       "      <th>date</th>\n",
       "      <th></th>\n",
       "    </tr>\n",
       "  </thead>\n",
       "  <tbody>\n",
       "    <tr>\n",
       "      <th>2022-10-14</th>\n",
       "      <td>15472</td>\n",
       "    </tr>\n",
       "    <tr>\n",
       "      <th>2022-10-17</th>\n",
       "      <td>15441</td>\n",
       "    </tr>\n",
       "    <tr>\n",
       "      <th>2022-10-18</th>\n",
       "      <td>15474</td>\n",
       "    </tr>\n",
       "    <tr>\n",
       "      <th>2022-10-19</th>\n",
       "      <td>15587</td>\n",
       "    </tr>\n",
       "    <tr>\n",
       "      <th>2022-10-20</th>\n",
       "      <td>15562</td>\n",
       "    </tr>\n",
       "  </tbody>\n",
       "</table>\n",
       "</div>"
      ],
      "text/plain": [
       "             kurs\n",
       "date             \n",
       "2022-10-14  15472\n",
       "2022-10-17  15441\n",
       "2022-10-18  15474\n",
       "2022-10-19  15587\n",
       "2022-10-20  15562"
      ]
     },
     "execution_count": 16,
     "metadata": {},
     "output_type": "execute_result"
    }
   ],
   "source": [
    "df.head()"
   ]
  },
  {
   "cell_type": "markdown",
   "metadata": {},
   "source": [
    "Data visualisation (please change this markdown with your explanation of what you do for data wrangling)"
   ]
  },
  {
   "cell_type": "code",
   "execution_count": 17,
   "metadata": {},
   "outputs": [
    {
     "data": {
      "text/plain": [
       "<AxesSubplot:xlabel='date'>"
      ]
     },
     "execution_count": 17,
     "metadata": {},
     "output_type": "execute_result"
    },
    {
     "data": {
      "image/png": "[encoded data removed]",
      "text/plain": [
       "<Figure size 640x480 with 1 Axes>"
      ]
     },
     "metadata": {},
     "output_type": "display_data"
    }
   ],
   "source": [
    "df.plot()"
   ]
  },
  {
   "cell_type": "markdown",
   "metadata": {},
   "source": [
    "### Implementing your webscrapping to the flask dashboard\n",
    "\n",
    "- Copy paste all of your web scrapping process to the desired position on the `app.py`\n",
    "- Changing the title of the dasboard at `index.html`"
   ]
  },
  {
   "cell_type": "markdown",
   "metadata": {},
   "source": [
    "## Finishing This Notebook with Your Analysis and Conclusion\n",
    "\n",
    "First you can do start with making the data visualisation. "
   ]
  },
  {
   "cell_type": "code",
   "execution_count": 18,
   "metadata": {
    "ExecuteTime": {
     "end_time": "2020-01-13T05:20:56.208237Z",
     "start_time": "2020-01-13T05:20:56.076043Z"
    }
   },
   "outputs": [
    {
     "data": {
      "text/plain": [
       "<AxesSubplot:xlabel='date'>"
      ]
     },
     "execution_count": 18,
     "metadata": {},
     "output_type": "execute_result"
    },
    {
     "data": {
      "image/png": "[encoded data removed]",
      "text/plain": [
       "<Figure size 640x480 with 1 Axes>"
      ]
     },
     "metadata": {},
     "output_type": "display_data"
    }
   ],
   "source": [
    "df.plot()"
   ]
  },
  {
   "cell_type": "markdown",
   "metadata": {},
   "source": [
    "Kesimpulan yang di dapat dari grafik diatas adalah\n",
    "1. Harga Kurs Dolar Amerika Serikat (USD) ke Rupiah Indonesia (IDR) mengalami fluktuasi yang cukup signifikant\n",
    "2. Harga Kurs Dolar Amerika Serikat (USD) ke Rupiah Indonesia (IDR) mengalami penurunan harga di bulan April 2023 dimana pada pertengahan Maret 2023 mengalami kenaikan meskipun tidak setinggi dibulan januari 2023\n",
    "3. Berdasarkan Harga Kurs Dolar Amerika Serikat (USD) ke Rupiah Indonesia (IDR) dari bulam November 2022 sampai saat ini, Harga Kurs Dolar Amerika Serikat (USD) ke Rupiah Indonesia (IDR) pada bulan April 2023 merupakan harga kurs terendah"
   ]
  },
  {
   "cell_type": "markdown",
   "metadata": {},
   "source": [
    "### Implement it at the webapps\n",
    "\n",
    "- You can create additional analysis from the data.\n",
    "- Implement it to the dashboard with at `app.py` dan `index.html`."
   ]
  }
 ],
 "metadata": {
  "kernelspec": {
   "display_name": "vulcan_capstone",
   "language": "python",
   "name": "vulcan_capstone"
  },
  "language_info": {
   "codemirror_mode": {
    "name": "ipython",
    "version": 3
   },
   "file_extension": ".py",
   "mimetype": "text/x-python",
   "name": "python",
   "nbconvert_exporter": "python",
   "pygments_lexer": "ipython3",
   "version": "3.8.5"
  }
 },
 "nbformat": 4,
 "nbformat_minor": 2
}
